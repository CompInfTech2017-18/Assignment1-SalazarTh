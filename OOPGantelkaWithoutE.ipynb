{
 "cells": [
  {
   "cell_type": "code",
   "execution_count": 36,
   "metadata": {},
   "outputs": [
    {
     "data": {
      "image/png": "[encoded data removed]",
      "text/plain": [
       "<matplotlib.figure.Figure at 0x7fdc18c98550>"
      ]
     },
     "metadata": {},
     "output_type": "display_data"
    }
   ],
   "source": [
    "import numpy as np\n",
    "import matplotlib.pyplot as plt\n",
    "\n",
    "\n",
    "class Plotter: \n",
    "   \n",
    "    def __init__(self, title, xlabel, ylabel): \n",
    "        self.fig = plt.figure()\n",
    "        self.ax = self.fig.add_subplot(111)\n",
    "        self.ax.set_title(title) \n",
    "        self.ax.set_xlabel(xlabel)\n",
    "        self.ax.set_ylabel(ylabel)\n",
    "\n",
    "    def plot(self, x, y, color): \n",
    "        return self.ax.plot(x, y, color)\n",
    "\n",
    "    def show(self):\n",
    "        plt.show()\n",
    "\n",
    "class objec:\n",
    "    def __init__(self,vx,vy,g,m,l,h,color,plotter):\n",
    "        self.velx = vx\n",
    "        self.vely = vy\n",
    "        self.force = g\n",
    "        self.mass = m\n",
    "        self.large = l\n",
    "        self.high = h\n",
    "        self.color = color\n",
    "        self.plotter = plotter\n",
    "        \n",
    "    def changex(self,time):\n",
    "        return self.velx*time + self.large\n",
    "    \n",
    "    def changey(self,time):\n",
    "        return self.vely*time - self.force/(2.0*self.mass)*time*time + self.high\n",
    "    \n",
    "    def evolution(self):\n",
    "        time = np.arange(0.,30.0,0.1)\n",
    "        xe = self.changex(time)\n",
    "        ye = self.changey(time)\n",
    "        plotter.plot(xe , ye ,'r')\n",
    "        \n",
    "        \n",
    "class gantel(objec):\n",
    "    def __init__(self,vx,vy,g,m,l,d,h,fi,w,color,plotter):\n",
    "        objec.__init__(self,vx,vy,g,m,l,h,color,plotter)\n",
    "\n",
    "        self.distance = d\n",
    "        self.fi = fi\n",
    "        self.omega = w\n",
    "        \n",
    "    def changeGantelX1(self,time):\n",
    "        return self.velx*time  + self.large + self.distance*np.cos(self.omega*time+self.fi)/2.0\n",
    "    \n",
    "    def changeGantelY1(self,time):\n",
    "        return self.vely*time - self.force/(2.0*self.mass)*time*time + self.high +self.distance*np.sin(self.omega*time+self.fi)/2.0\n",
    "    \n",
    "    def changeGantelX2(self,time):\n",
    "        return self.velx*time + self.large - self.distance*np.cos(self.omega*time+self.fi)/2.0\n",
    "    \n",
    "    def changeGantelY2(self,time):\n",
    "        return self.vely*time - self.force/(2.0*self.mass)*time*time + self.high - self.distance*np.sin(self.omega*time+self.fi)/2.0\n",
    "    \n",
    "    def evolutionGantel(self):\n",
    "        time = np.arange(0.,30.,0.1)\n",
    "        \n",
    "        xe1=self.changeGantelX1(time)\n",
    "        ye1=self.changeGantelY1(time)\n",
    "        plotter.plot(xe1, ye1, 'b')\n",
    "        \n",
    "        xe2=self.changeGantelX2(time)\n",
    "        ye2=self.changeGantelY2(time)\n",
    "        plotter.plot(xe2, ye2, self.color)\n",
    "    \n",
    "    \n",
    "    \n",
    "#gantel[self,vx,vy,g,m,l,d,h,fi,w,color,plotter]   \n",
    "\n",
    "plotter = Plotter('1','x','y')\n",
    "\n",
    "gantelka = gantel(1.0,5.0,1.0,5.0,1.0,1.0,1.0,0.5,2.0,'g',plotter)\n",
    "gantelka.evolution()\n",
    "gantelka.evolutionGantel()\n",
    "\n",
    "plotter.show()"
   ]
  },
  {
   "cell_type": "code",
   "execution_count": 26,
   "metadata": {
    "collapsed": true
   },
   "outputs": [],
   "source": []
  },
  {
   "cell_type": "code",
   "execution_count": null,
   "metadata": {
    "collapsed": true
   },
   "outputs": [],
   "source": []
  }
 ],
 "metadata": {
  "kernelspec": {
   "display_name": "Python 3",
   "language": "python",
   "name": "python3"
  },
  "language_info": {
   "codemirror_mode": {
    "name": "ipython",
    "version": 3
   },
   "file_extension": ".py",
   "mimetype": "text/x-python",
   "name": "python",
   "nbconvert_exporter": "python",
   "pygments_lexer": "ipython3",
   "version": "3.6.2"
  }
 },
 "nbformat": 4,
 "nbformat_minor": 2
}
